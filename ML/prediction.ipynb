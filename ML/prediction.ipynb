{
 "cells": [
  {
   "cell_type": "code",
   "execution_count": 1,
   "id": "07ba7d7a-b869-4bae-9fc7-ea0104e56600",
   "metadata": {},
   "outputs": [],
   "source": [
    "# Import the required modules\n",
    "import pandas as pd\n",
    "pd.set_option('display.max_columns', None)\n",
    "import pickle"
   ]
  },
  {
   "cell_type": "code",
   "execution_count": 2,
   "id": "5274ceaf-5d24-4d9b-acae-13b3af301020",
   "metadata": {},
   "outputs": [],
   "source": [
    "model = pickle.load(open(\"heart_model.h5\", 'rb'))\n",
    "scaler = pickle.load(open('heart_scaler.h5', 'rb'))"
   ]
  },
  {
   "cell_type": "code",
   "execution_count": 3,
   "id": "ffbaf583-3dd3-4c57-88f0-ad348e335108",
   "metadata": {},
   "outputs": [],
   "source": [
    "def prediction(BMI,Smoking,AlcoholDrinking,Stroke,PhysicalHealth,MentalHealth,DiffWalking,Sex,AgeCategory,\n",
    "               Race,Diabetic,PhysicalActivity,GenHealth,SleepTime,Asthma,KidneyDisease,SkinCancer):\n",
    "    \n",
    "    df = pd.DataFrame()\n",
    "    df['BMI'] = [BMI]\n",
    "    df['Smoking'] = [Smoking]\n",
    "    df['AlcoholDrinking'] = [AlcoholDrinking]\n",
    "    df['Stroke'] = [Stroke]\n",
    "    df['PhysicalHealth'] = [PhysicalHealth]\n",
    "    df['MentalHealth'] = [MentalHealth]\n",
    "    df['DiffWalking'] = [DiffWalking]\n",
    "    df['Sex'] = [Sex]\n",
    "    df['AgeCategory'] = [AgeCategory]\n",
    "    df['Race'] = [Race]\n",
    "    df['Diabetic'] = [Diabetic]\n",
    "    df['PhysicalActivity'] = [PhysicalActivity]\n",
    "    df['GenHealth'] = [GenHealth]\n",
    "    df['SleepTime'] = [SleepTime]\n",
    "    df['Asthma'] = [Asthma]\n",
    "    df['KidneyDisease'] = [KidneyDisease]\n",
    "    df['SkinCancer'] = [SkinCancer]\n",
    "    \n",
    "    num_columns = ['BMI', 'PhysicalHealth','MentalHealth','SleepTime','AgeCategory']\n",
    "    #heart_disease = df.HeartDisease.apply(lambda x: 1 if x == \"Yes\" else 0)\n",
    "    num_feats = df.loc[:,num_columns]\n",
    "    cat_feats = df.loc[:,['Smoking', 'AlcoholDrinking', 'Stroke', 'DiffWalking', 'Sex',\n",
    "           'Race', 'Diabetic', 'PhysicalActivity', 'GenHealth',\n",
    "           'Asthma', 'KidneyDisease', 'SkinCancer']]\n",
    "    cat_feats.Smoking = cat_feats.Smoking.apply(lambda x: 1 if x == \"Yes\" else 0)\n",
    "    cat_feats.AlcoholDrinking = cat_feats.AlcoholDrinking.apply(lambda x: 1 if x == \"Yes\" else 0)\n",
    "    cat_feats.Stroke = cat_feats.Stroke.apply(lambda x: 1 if x == \"Yes\" else 0)\n",
    "    cat_feats.DiffWalking = cat_feats.DiffWalking.apply(lambda x: 1 if x == \"Yes\" else 0)\n",
    "    cat_feats.Sex = cat_feats.Sex.apply(lambda x: 1 if x == \"Male\" else 0)\n",
    "    cat_feats.Diabetic = cat_feats.Diabetic.apply(lambda x: 1 if x == \"Yes\" else 0)\n",
    "    cat_feats.PhysicalActivity = cat_feats.PhysicalActivity.apply(lambda x: 1 if x == \"Yes\" else 0)\n",
    "    cat_feats.Asthma = cat_feats.Asthma.apply(lambda x: 1 if x == \"Yes\" else 0)\n",
    "    cat_feats.KidneyDisease = cat_feats.KidneyDisease.apply(lambda x: 1 if x == \"Yes\" else 0)\n",
    "    cat_feats.SkinCancer = cat_feats.SkinCancer.apply(lambda x: 1 if x == \"Yes\" else 0)\n",
    "    cat_feats.Race.replace({\n",
    "        \"White\": 0,\n",
    "        \"Hispanic\": 1,\n",
    "        \"Black\": 2,\n",
    "        \"Other\": 3,\n",
    "        \"Asian\": 4,\n",
    "        \"American Indian/Alaskan Native\":5}, inplace=True)\n",
    "    cat_feats.GenHealth.replace({\n",
    "        \"Excellent\": 0,\n",
    "        \"Very good\": 1,\n",
    "        \"Good\": 2,\n",
    "        \"Fair\": 3,\n",
    "        \"Poor\": 4}, inplace=True)\n",
    "    num_feats.AgeCategory.replace({\n",
    "        \"18-24\": 21,\n",
    "        \"25-29\": 27,\n",
    "        \"30-34\": 32,\n",
    "        \"35-39\": 37,\n",
    "        \"40-44\": 42,\n",
    "        \"45-49\": 47,\n",
    "        \"50-54\": 52,\n",
    "        \"55-59\": 57,\n",
    "        \"60-64\": 62,\n",
    "        \"65-69\": 67,\n",
    "        \"70-74\": 72,\n",
    "        \"75-79\": 77,\n",
    "        \"80 or older\":83}, inplace=True)\n",
    "    scaler.fit(num_feats)\n",
    "    \n",
    "    # predict/transform\n",
    "    scaled_data = scaler.transform(num_feats)\n",
    "    df_scaled = pd.DataFrame(scaled_data, columns=num_columns)\n",
    "    \n",
    "    df_final = pd.concat([df_scaled, cat_feats], axis=1)\n",
    "\n",
    "    prediction = model.predict(df_final)\n",
    "\n",
    "    return prediction[0]\n"
   ]
  },
  {
   "cell_type": "code",
   "execution_count": 4,
   "id": "eda16f68-d984-459e-9c1b-3246c82a6614",
   "metadata": {},
   "outputs": [
    {
     "name": "stderr",
     "output_type": "stream",
     "text": [
      "C:\\Users\\gavpl\\AppData\\Local\\Temp\\ipykernel_54044\\1018412812.py:39: FutureWarning: A value is trying to be set on a copy of a DataFrame or Series through chained assignment using an inplace method.\n",
      "The behavior will change in pandas 3.0. This inplace method will never work because the intermediate object on which we are setting values always behaves as a copy.\n",
      "\n",
      "For example, when doing 'df[col].method(value, inplace=True)', try using 'df.method({col: value}, inplace=True)' or df[col] = df[col].method(value) instead, to perform the operation inplace on the original object.\n",
      "\n",
      "\n",
      "  cat_feats.Race.replace({\n",
      "C:\\Users\\gavpl\\AppData\\Local\\Temp\\ipykernel_54044\\1018412812.py:39: FutureWarning: Downcasting behavior in `replace` is deprecated and will be removed in a future version. To retain the old behavior, explicitly call `result.infer_objects(copy=False)`. To opt-in to the future behavior, set `pd.set_option('future.no_silent_downcasting', True)`\n",
      "  cat_feats.Race.replace({\n",
      "C:\\Users\\gavpl\\AppData\\Local\\Temp\\ipykernel_54044\\1018412812.py:46: FutureWarning: A value is trying to be set on a copy of a DataFrame or Series through chained assignment using an inplace method.\n",
      "The behavior will change in pandas 3.0. This inplace method will never work because the intermediate object on which we are setting values always behaves as a copy.\n",
      "\n",
      "For example, when doing 'df[col].method(value, inplace=True)', try using 'df.method({col: value}, inplace=True)' or df[col] = df[col].method(value) instead, to perform the operation inplace on the original object.\n",
      "\n",
      "\n",
      "  cat_feats.GenHealth.replace({\n",
      "C:\\Users\\gavpl\\AppData\\Local\\Temp\\ipykernel_54044\\1018412812.py:46: FutureWarning: Downcasting behavior in `replace` is deprecated and will be removed in a future version. To retain the old behavior, explicitly call `result.infer_objects(copy=False)`. To opt-in to the future behavior, set `pd.set_option('future.no_silent_downcasting', True)`\n",
      "  cat_feats.GenHealth.replace({\n",
      "C:\\Users\\gavpl\\AppData\\Local\\Temp\\ipykernel_54044\\1018412812.py:52: FutureWarning: A value is trying to be set on a copy of a DataFrame or Series through chained assignment using an inplace method.\n",
      "The behavior will change in pandas 3.0. This inplace method will never work because the intermediate object on which we are setting values always behaves as a copy.\n",
      "\n",
      "For example, when doing 'df[col].method(value, inplace=True)', try using 'df.method({col: value}, inplace=True)' or df[col] = df[col].method(value) instead, to perform the operation inplace on the original object.\n",
      "\n",
      "\n",
      "  num_feats.AgeCategory.replace({\n"
     ]
    },
    {
     "data": {
      "text/plain": [
       "0"
      ]
     },
     "execution_count": 4,
     "metadata": {},
     "output_type": "execute_result"
    }
   ],
   "source": [
    "# Test Prediction\n",
    "prediction(16.60,'Yes','No','No',3.0,30.0,'No','Female',55-59,'White','Yes','Yes','Very good',5.0,'Yes','No','Yes')"
   ]
  },
  {
   "cell_type": "code",
   "execution_count": null,
   "id": "15cd2de9-657a-477f-84f9-012220bcd56c",
   "metadata": {},
   "outputs": [],
   "source": []
  },
  {
   "cell_type": "code",
   "execution_count": null,
   "id": "20ad3abf-8f80-4cd6-bac5-b5f38e94bf99",
   "metadata": {},
   "outputs": [],
   "source": []
  }
 ],
 "metadata": {
  "kernelspec": {
   "display_name": "Python 3 (ipykernel)",
   "language": "python",
   "name": "python3"
  },
  "language_info": {
   "codemirror_mode": {
    "name": "ipython",
    "version": 3
   },
   "file_extension": ".py",
   "mimetype": "text/x-python",
   "name": "python",
   "nbconvert_exporter": "python",
   "pygments_lexer": "ipython3",
   "version": "3.10.14"
  }
 },
 "nbformat": 4,
 "nbformat_minor": 5
}
